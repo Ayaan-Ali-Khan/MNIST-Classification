{
 "cells": [
  {
   "cell_type": "code",
   "execution_count": 1,
   "id": "67430f19",
   "metadata": {
    "_cell_guid": "b1076dfc-b9ad-4769-8c92-a6c4dae69d19",
    "_uuid": "8f2839f25d086af736a60e9eeb907d3b93b6e0e5",
    "execution": {
     "iopub.execute_input": "2025-07-08T11:39:38.418835Z",
     "iopub.status.busy": "2025-07-08T11:39:38.418493Z",
     "iopub.status.idle": "2025-07-08T11:39:45.644410Z",
     "shell.execute_reply": "2025-07-08T11:39:45.643378Z"
    },
    "papermill": {
     "duration": 7.234287,
     "end_time": "2025-07-08T11:39:45.645940",
     "exception": false,
     "start_time": "2025-07-08T11:39:38.411653",
     "status": "completed"
    },
    "scrolled": true,
    "tags": []
   },
   "outputs": [
    {
     "data": {
      "text/html": [
       "<div>\n",
       "<style scoped>\n",
       "    .dataframe tbody tr th:only-of-type {\n",
       "        vertical-align: middle;\n",
       "    }\n",
       "\n",
       "    .dataframe tbody tr th {\n",
       "        vertical-align: top;\n",
       "    }\n",
       "\n",
       "    .dataframe thead th {\n",
       "        text-align: right;\n",
       "    }\n",
       "</style>\n",
       "<table border=\"1\" class=\"dataframe\">\n",
       "  <thead>\n",
       "    <tr style=\"text-align: right;\">\n",
       "      <th></th>\n",
       "      <th>label</th>\n",
       "      <th>pixel0</th>\n",
       "      <th>pixel1</th>\n",
       "      <th>pixel2</th>\n",
       "      <th>pixel3</th>\n",
       "      <th>pixel4</th>\n",
       "      <th>pixel5</th>\n",
       "      <th>pixel6</th>\n",
       "      <th>pixel7</th>\n",
       "      <th>pixel8</th>\n",
       "      <th>...</th>\n",
       "      <th>pixel774</th>\n",
       "      <th>pixel775</th>\n",
       "      <th>pixel776</th>\n",
       "      <th>pixel777</th>\n",
       "      <th>pixel778</th>\n",
       "      <th>pixel779</th>\n",
       "      <th>pixel780</th>\n",
       "      <th>pixel781</th>\n",
       "      <th>pixel782</th>\n",
       "      <th>pixel783</th>\n",
       "    </tr>\n",
       "  </thead>\n",
       "  <tbody>\n",
       "    <tr>\n",
       "      <th>0</th>\n",
       "      <td>1</td>\n",
       "      <td>0</td>\n",
       "      <td>0</td>\n",
       "      <td>0</td>\n",
       "      <td>0</td>\n",
       "      <td>0</td>\n",
       "      <td>0</td>\n",
       "      <td>0</td>\n",
       "      <td>0</td>\n",
       "      <td>0</td>\n",
       "      <td>...</td>\n",
       "      <td>0</td>\n",
       "      <td>0</td>\n",
       "      <td>0</td>\n",
       "      <td>0</td>\n",
       "      <td>0</td>\n",
       "      <td>0</td>\n",
       "      <td>0</td>\n",
       "      <td>0</td>\n",
       "      <td>0</td>\n",
       "      <td>0</td>\n",
       "    </tr>\n",
       "    <tr>\n",
       "      <th>1</th>\n",
       "      <td>0</td>\n",
       "      <td>0</td>\n",
       "      <td>0</td>\n",
       "      <td>0</td>\n",
       "      <td>0</td>\n",
       "      <td>0</td>\n",
       "      <td>0</td>\n",
       "      <td>0</td>\n",
       "      <td>0</td>\n",
       "      <td>0</td>\n",
       "      <td>...</td>\n",
       "      <td>0</td>\n",
       "      <td>0</td>\n",
       "      <td>0</td>\n",
       "      <td>0</td>\n",
       "      <td>0</td>\n",
       "      <td>0</td>\n",
       "      <td>0</td>\n",
       "      <td>0</td>\n",
       "      <td>0</td>\n",
       "      <td>0</td>\n",
       "    </tr>\n",
       "    <tr>\n",
       "      <th>2</th>\n",
       "      <td>1</td>\n",
       "      <td>0</td>\n",
       "      <td>0</td>\n",
       "      <td>0</td>\n",
       "      <td>0</td>\n",
       "      <td>0</td>\n",
       "      <td>0</td>\n",
       "      <td>0</td>\n",
       "      <td>0</td>\n",
       "      <td>0</td>\n",
       "      <td>...</td>\n",
       "      <td>0</td>\n",
       "      <td>0</td>\n",
       "      <td>0</td>\n",
       "      <td>0</td>\n",
       "      <td>0</td>\n",
       "      <td>0</td>\n",
       "      <td>0</td>\n",
       "      <td>0</td>\n",
       "      <td>0</td>\n",
       "      <td>0</td>\n",
       "    </tr>\n",
       "    <tr>\n",
       "      <th>3</th>\n",
       "      <td>4</td>\n",
       "      <td>0</td>\n",
       "      <td>0</td>\n",
       "      <td>0</td>\n",
       "      <td>0</td>\n",
       "      <td>0</td>\n",
       "      <td>0</td>\n",
       "      <td>0</td>\n",
       "      <td>0</td>\n",
       "      <td>0</td>\n",
       "      <td>...</td>\n",
       "      <td>0</td>\n",
       "      <td>0</td>\n",
       "      <td>0</td>\n",
       "      <td>0</td>\n",
       "      <td>0</td>\n",
       "      <td>0</td>\n",
       "      <td>0</td>\n",
       "      <td>0</td>\n",
       "      <td>0</td>\n",
       "      <td>0</td>\n",
       "    </tr>\n",
       "    <tr>\n",
       "      <th>4</th>\n",
       "      <td>0</td>\n",
       "      <td>0</td>\n",
       "      <td>0</td>\n",
       "      <td>0</td>\n",
       "      <td>0</td>\n",
       "      <td>0</td>\n",
       "      <td>0</td>\n",
       "      <td>0</td>\n",
       "      <td>0</td>\n",
       "      <td>0</td>\n",
       "      <td>...</td>\n",
       "      <td>0</td>\n",
       "      <td>0</td>\n",
       "      <td>0</td>\n",
       "      <td>0</td>\n",
       "      <td>0</td>\n",
       "      <td>0</td>\n",
       "      <td>0</td>\n",
       "      <td>0</td>\n",
       "      <td>0</td>\n",
       "      <td>0</td>\n",
       "    </tr>\n",
       "    <tr>\n",
       "      <th>...</th>\n",
       "      <td>...</td>\n",
       "      <td>...</td>\n",
       "      <td>...</td>\n",
       "      <td>...</td>\n",
       "      <td>...</td>\n",
       "      <td>...</td>\n",
       "      <td>...</td>\n",
       "      <td>...</td>\n",
       "      <td>...</td>\n",
       "      <td>...</td>\n",
       "      <td>...</td>\n",
       "      <td>...</td>\n",
       "      <td>...</td>\n",
       "      <td>...</td>\n",
       "      <td>...</td>\n",
       "      <td>...</td>\n",
       "      <td>...</td>\n",
       "      <td>...</td>\n",
       "      <td>...</td>\n",
       "      <td>...</td>\n",
       "      <td>...</td>\n",
       "    </tr>\n",
       "    <tr>\n",
       "      <th>41995</th>\n",
       "      <td>0</td>\n",
       "      <td>0</td>\n",
       "      <td>0</td>\n",
       "      <td>0</td>\n",
       "      <td>0</td>\n",
       "      <td>0</td>\n",
       "      <td>0</td>\n",
       "      <td>0</td>\n",
       "      <td>0</td>\n",
       "      <td>0</td>\n",
       "      <td>...</td>\n",
       "      <td>0</td>\n",
       "      <td>0</td>\n",
       "      <td>0</td>\n",
       "      <td>0</td>\n",
       "      <td>0</td>\n",
       "      <td>0</td>\n",
       "      <td>0</td>\n",
       "      <td>0</td>\n",
       "      <td>0</td>\n",
       "      <td>0</td>\n",
       "    </tr>\n",
       "    <tr>\n",
       "      <th>41996</th>\n",
       "      <td>1</td>\n",
       "      <td>0</td>\n",
       "      <td>0</td>\n",
       "      <td>0</td>\n",
       "      <td>0</td>\n",
       "      <td>0</td>\n",
       "      <td>0</td>\n",
       "      <td>0</td>\n",
       "      <td>0</td>\n",
       "      <td>0</td>\n",
       "      <td>...</td>\n",
       "      <td>0</td>\n",
       "      <td>0</td>\n",
       "      <td>0</td>\n",
       "      <td>0</td>\n",
       "      <td>0</td>\n",
       "      <td>0</td>\n",
       "      <td>0</td>\n",
       "      <td>0</td>\n",
       "      <td>0</td>\n",
       "      <td>0</td>\n",
       "    </tr>\n",
       "    <tr>\n",
       "      <th>41997</th>\n",
       "      <td>7</td>\n",
       "      <td>0</td>\n",
       "      <td>0</td>\n",
       "      <td>0</td>\n",
       "      <td>0</td>\n",
       "      <td>0</td>\n",
       "      <td>0</td>\n",
       "      <td>0</td>\n",
       "      <td>0</td>\n",
       "      <td>0</td>\n",
       "      <td>...</td>\n",
       "      <td>0</td>\n",
       "      <td>0</td>\n",
       "      <td>0</td>\n",
       "      <td>0</td>\n",
       "      <td>0</td>\n",
       "      <td>0</td>\n",
       "      <td>0</td>\n",
       "      <td>0</td>\n",
       "      <td>0</td>\n",
       "      <td>0</td>\n",
       "    </tr>\n",
       "    <tr>\n",
       "      <th>41998</th>\n",
       "      <td>6</td>\n",
       "      <td>0</td>\n",
       "      <td>0</td>\n",
       "      <td>0</td>\n",
       "      <td>0</td>\n",
       "      <td>0</td>\n",
       "      <td>0</td>\n",
       "      <td>0</td>\n",
       "      <td>0</td>\n",
       "      <td>0</td>\n",
       "      <td>...</td>\n",
       "      <td>0</td>\n",
       "      <td>0</td>\n",
       "      <td>0</td>\n",
       "      <td>0</td>\n",
       "      <td>0</td>\n",
       "      <td>0</td>\n",
       "      <td>0</td>\n",
       "      <td>0</td>\n",
       "      <td>0</td>\n",
       "      <td>0</td>\n",
       "    </tr>\n",
       "    <tr>\n",
       "      <th>41999</th>\n",
       "      <td>9</td>\n",
       "      <td>0</td>\n",
       "      <td>0</td>\n",
       "      <td>0</td>\n",
       "      <td>0</td>\n",
       "      <td>0</td>\n",
       "      <td>0</td>\n",
       "      <td>0</td>\n",
       "      <td>0</td>\n",
       "      <td>0</td>\n",
       "      <td>...</td>\n",
       "      <td>0</td>\n",
       "      <td>0</td>\n",
       "      <td>0</td>\n",
       "      <td>0</td>\n",
       "      <td>0</td>\n",
       "      <td>0</td>\n",
       "      <td>0</td>\n",
       "      <td>0</td>\n",
       "      <td>0</td>\n",
       "      <td>0</td>\n",
       "    </tr>\n",
       "  </tbody>\n",
       "</table>\n",
       "<p>42000 rows × 785 columns</p>\n",
       "</div>"
      ],
      "text/plain": [
       "       label  pixel0  pixel1  pixel2  pixel3  pixel4  pixel5  pixel6  pixel7  \\\n",
       "0          1       0       0       0       0       0       0       0       0   \n",
       "1          0       0       0       0       0       0       0       0       0   \n",
       "2          1       0       0       0       0       0       0       0       0   \n",
       "3          4       0       0       0       0       0       0       0       0   \n",
       "4          0       0       0       0       0       0       0       0       0   \n",
       "...      ...     ...     ...     ...     ...     ...     ...     ...     ...   \n",
       "41995      0       0       0       0       0       0       0       0       0   \n",
       "41996      1       0       0       0       0       0       0       0       0   \n",
       "41997      7       0       0       0       0       0       0       0       0   \n",
       "41998      6       0       0       0       0       0       0       0       0   \n",
       "41999      9       0       0       0       0       0       0       0       0   \n",
       "\n",
       "       pixel8  ...  pixel774  pixel775  pixel776  pixel777  pixel778  \\\n",
       "0           0  ...         0         0         0         0         0   \n",
       "1           0  ...         0         0         0         0         0   \n",
       "2           0  ...         0         0         0         0         0   \n",
       "3           0  ...         0         0         0         0         0   \n",
       "4           0  ...         0         0         0         0         0   \n",
       "...       ...  ...       ...       ...       ...       ...       ...   \n",
       "41995       0  ...         0         0         0         0         0   \n",
       "41996       0  ...         0         0         0         0         0   \n",
       "41997       0  ...         0         0         0         0         0   \n",
       "41998       0  ...         0         0         0         0         0   \n",
       "41999       0  ...         0         0         0         0         0   \n",
       "\n",
       "       pixel779  pixel780  pixel781  pixel782  pixel783  \n",
       "0             0         0         0         0         0  \n",
       "1             0         0         0         0         0  \n",
       "2             0         0         0         0         0  \n",
       "3             0         0         0         0         0  \n",
       "4             0         0         0         0         0  \n",
       "...         ...       ...       ...       ...       ...  \n",
       "41995         0         0         0         0         0  \n",
       "41996         0         0         0         0         0  \n",
       "41997         0         0         0         0         0  \n",
       "41998         0         0         0         0         0  \n",
       "41999         0         0         0         0         0  \n",
       "\n",
       "[42000 rows x 785 columns]"
      ]
     },
     "execution_count": 1,
     "metadata": {},
     "output_type": "execute_result"
    }
   ],
   "source": [
    "import pandas as pd\n",
    "import numpy as np\n",
    "\n",
    "mnist_train = pd.read_csv(\"/kaggle/input/digit-recognizer/train.csv\")\n",
    "mnist_test = pd.read_csv(\"/kaggle/input/digit-recognizer/test.csv\")\n",
    "mnist_train"
   ]
  },
  {
   "cell_type": "code",
   "execution_count": 2,
   "id": "8a7a9930",
   "metadata": {
    "execution": {
     "iopub.execute_input": "2025-07-08T11:39:45.657050Z",
     "iopub.status.busy": "2025-07-08T11:39:45.656711Z",
     "iopub.status.idle": "2025-07-08T11:39:45.665151Z",
     "shell.execute_reply": "2025-07-08T11:39:45.664332Z"
    },
    "papermill": {
     "duration": 0.01562,
     "end_time": "2025-07-08T11:39:45.666632",
     "exception": false,
     "start_time": "2025-07-08T11:39:45.651012",
     "status": "completed"
    },
    "tags": []
   },
   "outputs": [
    {
     "name": "stdout",
     "output_type": "stream",
     "text": [
      "X_train => (784, 42000)\n",
      "y_train => (42000,)\n",
      "X_test => (784, 28000)\n"
     ]
    }
   ],
   "source": [
    "y_train = mnist_train['label']\n",
    "X_train = mnist_train.iloc[: ,1:].T\n",
    "X_test = mnist_test.T\n",
    "\n",
    "# X_train = X_train / 255.\n",
    "# X_test = X_test / 255.\n",
    "\n",
    "print(f\"X_train => {X_train.shape}\")\n",
    "print(f\"y_train => {y_train.shape}\")\n",
    "print(f\"X_test => {X_test.shape}\")"
   ]
  },
  {
   "cell_type": "markdown",
   "id": "d1d1db66",
   "metadata": {
    "papermill": {
     "duration": 0.004557,
     "end_time": "2025-07-08T11:39:45.676016",
     "exception": false,
     "start_time": "2025-07-08T11:39:45.671459",
     "status": "completed"
    },
    "tags": []
   },
   "source": [
    "### Preprocessing the labels"
   ]
  },
  {
   "cell_type": "code",
   "execution_count": 3,
   "id": "1f05ed17",
   "metadata": {
    "execution": {
     "iopub.execute_input": "2025-07-08T11:39:45.687301Z",
     "iopub.status.busy": "2025-07-08T11:39:45.686414Z",
     "iopub.status.idle": "2025-07-08T11:39:45.693387Z",
     "shell.execute_reply": "2025-07-08T11:39:45.692547Z"
    },
    "papermill": {
     "duration": 0.013919,
     "end_time": "2025-07-08T11:39:45.694722",
     "exception": false,
     "start_time": "2025-07-08T11:39:45.680803",
     "status": "completed"
    },
    "tags": []
   },
   "outputs": [
    {
     "name": "stdout",
     "output_type": "stream",
     "text": [
      "y_train => (10, 42000)\n"
     ]
    }
   ],
   "source": [
    "def one_hot_encode(y):\n",
    "    m = y.shape[0]\n",
    "    one_hot_y = np.zeros((10, m))\n",
    "    one_hot_y[y, np.arange(m)] = 1\n",
    "    return one_hot_y\n",
    "\n",
    "y_train = one_hot_encode(y_train)\n",
    "print(f\"y_train => {y_train.shape}\")"
   ]
  },
  {
   "cell_type": "markdown",
   "id": "dd4178c7",
   "metadata": {
    "papermill": {
     "duration": 0.004622,
     "end_time": "2025-07-08T11:39:45.704133",
     "exception": false,
     "start_time": "2025-07-08T11:39:45.699511",
     "status": "completed"
    },
    "tags": []
   },
   "source": [
    "### The general methodology to build a Neural Network is to:\n",
    "\n",
    "1. Define the neural network structure ( # of input units,  # of hidden units, etc). \n",
    "2. Initialize the model's parameters\n",
    "3. Loop:\n",
    "    - Implement forward propagation\n",
    "    - Compute loss\n",
    "    - Implement backward propagation to get the gradients\n",
    "    - Update parameters (gradient descent)"
   ]
  },
  {
   "cell_type": "markdown",
   "id": "5e1aa3bb",
   "metadata": {
    "papermill": {
     "duration": 0.004332,
     "end_time": "2025-07-08T11:39:45.713041",
     "exception": false,
     "start_time": "2025-07-08T11:39:45.708709",
     "status": "completed"
    },
    "tags": []
   },
   "source": [
    "## 1. Define the architecture"
   ]
  },
  {
   "cell_type": "code",
   "execution_count": 4,
   "id": "1ed8c0d5",
   "metadata": {
    "execution": {
     "iopub.execute_input": "2025-07-08T11:39:45.723524Z",
     "iopub.status.busy": "2025-07-08T11:39:45.723202Z",
     "iopub.status.idle": "2025-07-08T11:39:45.729344Z",
     "shell.execute_reply": "2025-07-08T11:39:45.728289Z"
    },
    "papermill": {
     "duration": 0.013156,
     "end_time": "2025-07-08T11:39:45.730795",
     "exception": false,
     "start_time": "2025-07-08T11:39:45.717639",
     "status": "completed"
    },
    "scrolled": true,
    "tags": []
   },
   "outputs": [
    {
     "name": "stdout",
     "output_type": "stream",
     "text": [
      "The size of the input layer is: n_x = 784\n",
      "The size of the hidden layer is: n_h = 256\n",
      "The size of the output layer is: n_y = 10\n"
     ]
    }
   ],
   "source": [
    "# Define the architecture\n",
    "def layer_sizes(X, y):\n",
    "    n_x = X.shape[0]\n",
    "    n_h = 256\n",
    "    n_y = y.shape[0]\n",
    "    \n",
    "    return (n_x, n_h, n_y)\n",
    "\n",
    "(n_x, n_h, n_y) = layer_sizes(X_train, y_train)\n",
    "print(\"The size of the input layer is: n_x = \" + str(n_x))\n",
    "print(\"The size of the hidden layer is: n_h = \" + str(n_h))\n",
    "print(\"The size of the output layer is: n_y = \" + str(n_y))"
   ]
  },
  {
   "cell_type": "markdown",
   "id": "e0c0599e",
   "metadata": {
    "papermill": {
     "duration": 0.004481,
     "end_time": "2025-07-08T11:39:45.740062",
     "exception": false,
     "start_time": "2025-07-08T11:39:45.735581",
     "status": "completed"
    },
    "tags": []
   },
   "source": [
    "## 2. Initialize the parameters"
   ]
  },
  {
   "cell_type": "code",
   "execution_count": 5,
   "id": "251c44a0",
   "metadata": {
    "execution": {
     "iopub.execute_input": "2025-07-08T11:39:45.750471Z",
     "iopub.status.busy": "2025-07-08T11:39:45.750170Z",
     "iopub.status.idle": "2025-07-08T11:39:45.775130Z",
     "shell.execute_reply": "2025-07-08T11:39:45.774124Z"
    },
    "papermill": {
     "duration": 0.031824,
     "end_time": "2025-07-08T11:39:45.776515",
     "exception": false,
     "start_time": "2025-07-08T11:39:45.744691",
     "status": "completed"
    },
    "tags": []
   },
   "outputs": [
    {
     "name": "stdout",
     "output_type": "stream",
     "text": [
      "W1 => (256, 784)\n",
      "b1 => (256, 1)\n",
      "W2 => (10, 256)\n",
      "b2 => (10, 1)\n"
     ]
    }
   ],
   "source": [
    "def initialize_parameters(n_x, n_h, n_y):\n",
    "    W1 = np.random.randn(n_h, n_x) * 0.01\n",
    "    b1 = np.zeros((n_h, 1))\n",
    "    W2 = np.random.randn(n_y, n_h) * 0.01\n",
    "    b2 = np.zeros((n_y, 1))\n",
    "\n",
    "    parameters = {\"W1\": W1,\n",
    "                  \"b1\": b1,\n",
    "                  \"W2\": W2,\n",
    "                  \"b2\": b2}\n",
    "    return parameters\n",
    "\n",
    "parameters = initialize_parameters(n_x, n_h, n_y)\n",
    "\n",
    "print(f\"W1 => {parameters['W1'].shape}\")\n",
    "print(f\"b1 => {parameters['b1'].shape}\")\n",
    "print(f\"W2 => {parameters['W2'].shape}\")\n",
    "print(f\"b2 => {parameters['b2'].shape}\")"
   ]
  },
  {
   "cell_type": "markdown",
   "id": "a7318a3f",
   "metadata": {
    "papermill": {
     "duration": 0.004468,
     "end_time": "2025-07-08T11:39:45.785996",
     "exception": false,
     "start_time": "2025-07-08T11:39:45.781528",
     "status": "completed"
    },
    "tags": []
   },
   "source": [
    "## 3.1 Implementing Forward Propagation"
   ]
  },
  {
   "cell_type": "markdown",
   "id": "1a18f957",
   "metadata": {
    "papermill": {
     "duration": 0.004883,
     "end_time": "2025-07-08T11:39:45.795620",
     "exception": false,
     "start_time": "2025-07-08T11:39:45.790737",
     "status": "completed"
    },
    "tags": []
   },
   "source": [
    "### Let's make some activation functions"
   ]
  },
  {
   "cell_type": "code",
   "execution_count": 6,
   "id": "11cb062f",
   "metadata": {
    "execution": {
     "iopub.execute_input": "2025-07-08T11:39:45.806520Z",
     "iopub.status.busy": "2025-07-08T11:39:45.805799Z",
     "iopub.status.idle": "2025-07-08T11:39:45.810814Z",
     "shell.execute_reply": "2025-07-08T11:39:45.809912Z"
    },
    "papermill": {
     "duration": 0.011906,
     "end_time": "2025-07-08T11:39:45.812245",
     "exception": false,
     "start_time": "2025-07-08T11:39:45.800339",
     "status": "completed"
    },
    "tags": []
   },
   "outputs": [],
   "source": [
    "def softmax(z):\n",
    "    z -= np.max(z, axis=0, keepdims=True)\n",
    "    return np.exp(z) / np.sum(np.exp(z), axis=0, keepdims=True)"
   ]
  },
  {
   "cell_type": "code",
   "execution_count": 7,
   "id": "2583c753",
   "metadata": {
    "execution": {
     "iopub.execute_input": "2025-07-08T11:39:45.822972Z",
     "iopub.status.busy": "2025-07-08T11:39:45.822627Z",
     "iopub.status.idle": "2025-07-08T11:39:45.826943Z",
     "shell.execute_reply": "2025-07-08T11:39:45.826238Z"
    },
    "papermill": {
     "duration": 0.011221,
     "end_time": "2025-07-08T11:39:45.828290",
     "exception": false,
     "start_time": "2025-07-08T11:39:45.817069",
     "status": "completed"
    },
    "tags": []
   },
   "outputs": [],
   "source": [
    "def ReLU(z):\n",
    "    return np.maximum(0, z)\n",
    "\n",
    "def ReLU_derivative(z):\n",
    "    return z>0"
   ]
  },
  {
   "cell_type": "code",
   "execution_count": 8,
   "id": "5cca8a44",
   "metadata": {
    "execution": {
     "iopub.execute_input": "2025-07-08T11:39:45.840062Z",
     "iopub.status.busy": "2025-07-08T11:39:45.839255Z",
     "iopub.status.idle": "2025-07-08T11:39:46.388304Z",
     "shell.execute_reply": "2025-07-08T11:39:46.387443Z"
    },
    "papermill": {
     "duration": 0.556361,
     "end_time": "2025-07-08T11:39:46.390020",
     "exception": false,
     "start_time": "2025-07-08T11:39:45.833659",
     "status": "completed"
    },
    "tags": []
   },
   "outputs": [
    {
     "name": "stdout",
     "output_type": "stream",
     "text": [
      "A2 => (10, 42000)\n",
      "A2 = [[2.22968114e-01 8.34034175e-05 6.73912585e-01 ... 4.77843514e-04\n",
      "  1.91380985e-01 1.15331344e-02]\n",
      " [8.75785964e-02 8.40423378e-05 5.63727031e-02 ... 3.57395044e-03\n",
      "  1.20392431e-03 5.42323815e-04]\n",
      " [6.27506670e-03 8.59737677e-05 6.37749460e-03 ... 2.91630582e-04\n",
      "  9.85413839e-04 1.74608277e-04]\n",
      " ...\n",
      " [3.31848258e-04 8.02627934e-05 3.56347748e-03 ... 1.03289885e-01\n",
      "  1.78582233e-04 7.52145225e-03]\n",
      " [1.12180869e-01 4.15955782e-02 7.03717499e-03 ... 1.65111307e-01\n",
      "  7.10436831e-01 7.85061878e-03]\n",
      " [1.91194366e-01 5.90898131e-05 1.56367147e-01 ... 9.50711718e-04\n",
      "  1.42265499e-02 9.78919013e-02]]\n"
     ]
    }
   ],
   "source": [
    "def forward_propagation(X, parameters):\n",
    "    Z1 = np.dot(parameters['W1'], X) + parameters[\"b1\"]\n",
    "    A1 = ReLU(Z1)\n",
    "    Z2 = np.dot(parameters['W2'], A1) + parameters[\"b2\"]\n",
    "    A2 = softmax(Z2)\n",
    "\n",
    "    forward_cache = {\n",
    "        \"Z1\": Z1,\n",
    "        \"A1\": A1,\n",
    "        \"Z2\": Z2,\n",
    "        \"A2\": A2,\n",
    "    }\n",
    "    return A2, forward_cache\n",
    "\n",
    "A2, forward_cache = forward_propagation(X_train, parameters)\n",
    "print(f\"A2 => {A2.shape}\")\n",
    "print(\"A2 = \"+ str(A2))\n",
    "#print(f\"Forward cache => {forward_cache}\")"
   ]
  },
  {
   "cell_type": "markdown",
   "id": "ce419ca5",
   "metadata": {
    "papermill": {
     "duration": 0.004483,
     "end_time": "2025-07-08T11:39:46.399328",
     "exception": false,
     "start_time": "2025-07-08T11:39:46.394845",
     "status": "completed"
    },
    "tags": []
   },
   "source": [
    "## Make Predictions"
   ]
  },
  {
   "cell_type": "code",
   "execution_count": 9,
   "id": "f139f298",
   "metadata": {
    "execution": {
     "iopub.execute_input": "2025-07-08T11:39:46.409903Z",
     "iopub.status.busy": "2025-07-08T11:39:46.409544Z",
     "iopub.status.idle": "2025-07-08T11:39:46.916711Z",
     "shell.execute_reply": "2025-07-08T11:39:46.915702Z"
    },
    "papermill": {
     "duration": 0.514379,
     "end_time": "2025-07-08T11:39:46.918476",
     "exception": false,
     "start_time": "2025-07-08T11:39:46.404097",
     "status": "completed"
    },
    "tags": []
   },
   "outputs": [
    {
     "data": {
      "text/plain": [
       "array([3, 6, 0, ..., 6, 8, 6])"
      ]
     },
     "execution_count": 9,
     "metadata": {},
     "output_type": "execute_result"
    }
   ],
   "source": [
    "def predict(X, parameters):\n",
    "    A2, forward_cache = forward_propagation(X, parameters)\n",
    "    y_pred = np.argmax(A2, axis=0)\n",
    "    return y_pred\n",
    "\n",
    "y_pred = predict(X_train, parameters)\n",
    "y_pred"
   ]
  },
  {
   "cell_type": "markdown",
   "id": "38620bc5",
   "metadata": {
    "papermill": {
     "duration": 0.004862,
     "end_time": "2025-07-08T11:39:46.929698",
     "exception": false,
     "start_time": "2025-07-08T11:39:46.924836",
     "status": "completed"
    },
    "tags": []
   },
   "source": [
    "## 3.2 Computing Cost and Accuracy"
   ]
  },
  {
   "cell_type": "code",
   "execution_count": 10,
   "id": "8d38d489",
   "metadata": {
    "execution": {
     "iopub.execute_input": "2025-07-08T11:39:46.940588Z",
     "iopub.status.busy": "2025-07-08T11:39:46.940289Z",
     "iopub.status.idle": "2025-07-08T11:39:46.949245Z",
     "shell.execute_reply": "2025-07-08T11:39:46.948373Z"
    },
    "papermill": {
     "duration": 0.01597,
     "end_time": "2025-07-08T11:39:46.950575",
     "exception": false,
     "start_time": "2025-07-08T11:39:46.934605",
     "status": "completed"
    },
    "tags": []
   },
   "outputs": [
    {
     "data": {
      "text/plain": [
       "11.571428571428571"
      ]
     },
     "execution_count": 10,
     "metadata": {},
     "output_type": "execute_result"
    }
   ],
   "source": [
    "def compute_cost(A2, y):\n",
    "    m = y.shape[1]\n",
    "    epsilon = 1e-8\n",
    "    cost = -np.sum(y * np.log(A2 + epsilon)) / m\n",
    "    return np.squeeze(cost)\n",
    "\n",
    "def compute_accuracy(y_pred, y_true):\n",
    "    labels = np.argmax(y_true, axis=0)\n",
    "    return np.mean(y_pred == labels) * 100\n",
    "\n",
    "compute_accuracy(y_pred, y_train)"
   ]
  },
  {
   "cell_type": "markdown",
   "id": "f5db3a9f",
   "metadata": {
    "papermill": {
     "duration": 0.004622,
     "end_time": "2025-07-08T11:39:46.960261",
     "exception": false,
     "start_time": "2025-07-08T11:39:46.955639",
     "status": "completed"
    },
    "tags": []
   },
   "source": [
    "## 3.3 Implementing Backward Propagation"
   ]
  },
  {
   "cell_type": "code",
   "execution_count": 11,
   "id": "2eebfcad",
   "metadata": {
    "execution": {
     "iopub.execute_input": "2025-07-08T11:39:46.971182Z",
     "iopub.status.busy": "2025-07-08T11:39:46.970835Z",
     "iopub.status.idle": "2025-07-08T11:39:47.415171Z",
     "shell.execute_reply": "2025-07-08T11:39:47.414069Z"
    },
    "papermill": {
     "duration": 0.45146,
     "end_time": "2025-07-08T11:39:47.416640",
     "exception": false,
     "start_time": "2025-07-08T11:39:46.965180",
     "status": "completed"
    },
    "tags": []
   },
   "outputs": [
    {
     "name": "stdout",
     "output_type": "stream",
     "text": [
      "dW2 =>  (10, 256)\n",
      "db2 =>  (10, 1)\n",
      "dW1 =>  (256, 784)\n",
      "db1 =>  (256, 1)\n"
     ]
    }
   ],
   "source": [
    "def backward_propagation(parameters, forward_cache, X, Y):\n",
    "    W1 = parameters[\"W1\"]\n",
    "    W2 = parameters[\"W2\"]\n",
    "\n",
    "    Z1 = forward_cache[\"Z1\"]\n",
    "    A1 = forward_cache[\"A1\"]\n",
    "    A2 = forward_cache[\"A2\"]\n",
    "\n",
    "    m = X.shape[1]\n",
    "\n",
    "    dZ2 = A2 - Y\n",
    "    dW2 = np.dot(dZ2, A1.T) / m\n",
    "    db2 = np.sum(dZ2, axis=1, keepdims=True) / m\n",
    "    dZ1 = np.dot(W2.T, dZ2) * ReLU_derivative(Z1)\n",
    "    dW1 = np.dot(dZ1, X.T) / m\n",
    "    db1 = np.sum(dZ1, axis=1, keepdims=True)\n",
    "\n",
    "    grads = {\n",
    "        \"dW2\": dW2,\n",
    "        \"db2\": db2,\n",
    "        \"dW1\": dW1,\n",
    "        \"db1\": db1\n",
    "    }\n",
    "    return grads\n",
    "\n",
    "grads = backward_propagation(parameters, forward_cache, X_train, y_train)\n",
    "print (\"dW2 => \", grads[\"dW2\"].shape)\n",
    "print (\"db2 => \", grads[\"db2\"].shape)\n",
    "print (\"dW1 => \", grads[\"dW1\"].shape)\n",
    "print (\"db1 => \", grads[\"db1\"].shape)"
   ]
  },
  {
   "cell_type": "markdown",
   "id": "20b98a81",
   "metadata": {
    "papermill": {
     "duration": 0.005042,
     "end_time": "2025-07-08T11:39:47.426978",
     "exception": false,
     "start_time": "2025-07-08T11:39:47.421936",
     "status": "completed"
    },
    "tags": []
   },
   "source": [
    "## 3.4 Updating Parameters"
   ]
  },
  {
   "cell_type": "code",
   "execution_count": 12,
   "id": "115af2c9",
   "metadata": {
    "execution": {
     "iopub.execute_input": "2025-07-08T11:39:47.438185Z",
     "iopub.status.busy": "2025-07-08T11:39:47.437843Z",
     "iopub.status.idle": "2025-07-08T11:39:47.443221Z",
     "shell.execute_reply": "2025-07-08T11:39:47.442406Z"
    },
    "papermill": {
     "duration": 0.012567,
     "end_time": "2025-07-08T11:39:47.444586",
     "exception": false,
     "start_time": "2025-07-08T11:39:47.432019",
     "status": "completed"
    },
    "tags": []
   },
   "outputs": [],
   "source": [
    "def update_parameters(parameters, grads, learning_rate=0.1):\n",
    "    parameters[\"W1\"] -= learning_rate * grads[\"dW1\"]\n",
    "    parameters[\"b1\"] -= learning_rate * grads[\"db1\"]\n",
    "    parameters[\"W2\"] -= learning_rate * grads[\"dW2\"]\n",
    "    parameters[\"b2\"] -= learning_rate * grads[\"db2\"]\n",
    "    return parameters\n",
    "\n",
    "parameters = update_parameters(parameters, grads)"
   ]
  },
  {
   "cell_type": "markdown",
   "id": "2845ebe7",
   "metadata": {
    "papermill": {
     "duration": 0.004797,
     "end_time": "2025-07-08T11:39:47.454596",
     "exception": false,
     "start_time": "2025-07-08T11:39:47.449799",
     "status": "completed"
    },
    "tags": []
   },
   "source": [
    "### Putting all pieces together"
   ]
  },
  {
   "cell_type": "code",
   "execution_count": 13,
   "id": "b1a390af",
   "metadata": {
    "execution": {
     "iopub.execute_input": "2025-07-08T11:39:47.465824Z",
     "iopub.status.busy": "2025-07-08T11:39:47.465504Z",
     "iopub.status.idle": "2025-07-08T12:08:48.405165Z",
     "shell.execute_reply": "2025-07-08T12:08:48.403898Z"
    },
    "papermill": {
     "duration": 1740.952275,
     "end_time": "2025-07-08T12:08:48.411975",
     "exception": false,
     "start_time": "2025-07-08T11:39:47.459700",
     "status": "completed"
    },
    "tags": []
   },
   "outputs": [
    {
     "name": "stdout",
     "output_type": "stream",
     "text": [
      "Epoch 0/1200\n",
      " categorical cross entropy: 5.99908469474703 - accuracy = 7.869047619047619\n",
      "Epoch 100/1200\n",
      " categorical cross entropy: 0.23490757250121164 - accuracy = 93.0904761904762\n",
      "Epoch 200/1200\n",
      " categorical cross entropy: 0.1692931394593458 - accuracy = 95.03809523809524\n",
      "Epoch 300/1200\n",
      " categorical cross entropy: 0.1343557450724123 - accuracy = 96.1\n",
      "Epoch 400/1200\n",
      " categorical cross entropy: 0.11171615020557729 - accuracy = 96.76428571428572\n",
      "Epoch 500/1200\n",
      " categorical cross entropy: 0.09552632392320437 - accuracy = 97.26190476190476\n",
      "Epoch 600/1200\n",
      " categorical cross entropy: 0.08313926402394349 - accuracy = 97.69285714285715\n",
      "Epoch 700/1200\n",
      " categorical cross entropy: 0.07321103082773882 - accuracy = 98.03333333333333\n",
      "Epoch 800/1200\n",
      " categorical cross entropy: 0.06508368982907115 - accuracy = 98.28095238095239\n",
      "Epoch 900/1200\n",
      " categorical cross entropy: 0.05826778054300678 - accuracy = 98.52142857142857\n",
      "Epoch 1000/1200\n",
      " categorical cross entropy: 0.05245900573476295 - accuracy = 98.7\n",
      "Epoch 1100/1200\n",
      " categorical cross entropy: 0.0474268450266655 - accuracy = 98.8547619047619\n",
      "Final Cost: 0.043054763326179746 - Training Accuracy: 99.00952380952381\n"
     ]
    }
   ],
   "source": [
    "def nn_model(X, y, n_h, iterations=30, learning_rate=0.1):\n",
    "    np.random.seed(42)\n",
    "    \n",
    "    n_x = layer_sizes(X, y)[0]\n",
    "    n_y = layer_sizes(X, y)[2]\n",
    "\n",
    "    parameters = initialize_parameters(n_x, n_h, n_y)\n",
    "    for i in range(iterations):\n",
    "        # Forward Propagation\n",
    "        A2, forward_cache = forward_propagation(X, parameters)\n",
    "        # Calculate Predictions\n",
    "        y_pred = predict(X_train, parameters)\n",
    "        # Calculate Accuracy\n",
    "        accuracy = compute_accuracy(y_pred, y_train)\n",
    "        # Calculate cost\n",
    "        cost = compute_cost(A2, y)\n",
    "        # Backward Propagation\n",
    "        grads = backward_propagation(parameters, forward_cache, X, y)\n",
    "        # Gradient Descent\n",
    "        parameters = update_parameters(parameters, grads, learning_rate=learning_rate)\n",
    "        if (i%100 == 0):\n",
    "            print(f\"Epoch {i}/{iterations}\")\n",
    "            print(f\" categorical cross entropy: {cost} - accuracy = {accuracy}\")\n",
    "    print(f\"Final Cost: {cost} - Training Accuracy: {accuracy}\")\n",
    "    return parameters\n",
    "\n",
    "final_parameters = nn_model(X_train, y_train, 256, iterations=1200, learning_rate=0.0024)"
   ]
  },
  {
   "cell_type": "markdown",
   "id": "91e5a3ef",
   "metadata": {
    "papermill": {
     "duration": 0.005397,
     "end_time": "2025-07-08T12:08:48.424008",
     "exception": false,
     "start_time": "2025-07-08T12:08:48.418611",
     "status": "completed"
    },
    "tags": []
   },
   "source": [
    "## Final Submission"
   ]
  },
  {
   "cell_type": "code",
   "execution_count": 14,
   "id": "80cc8b05",
   "metadata": {
    "execution": {
     "iopub.execute_input": "2025-07-08T12:08:48.534427Z",
     "iopub.status.busy": "2025-07-08T12:08:48.534077Z",
     "iopub.status.idle": "2025-07-08T12:08:48.937180Z",
     "shell.execute_reply": "2025-07-08T12:08:48.936149Z"
    },
    "papermill": {
     "duration": 0.411932,
     "end_time": "2025-07-08T12:08:48.938793",
     "exception": false,
     "start_time": "2025-07-08T12:08:48.526861",
     "status": "completed"
    },
    "tags": []
   },
   "outputs": [
    {
     "name": "stdout",
     "output_type": "stream",
     "text": [
      "X_test shape: (784, 28000)\n",
      "y_pred_test shape: (28000,)\n"
     ]
    }
   ],
   "source": [
    "y_pred_test = predict(X_test, final_parameters)\n",
    "print(\"X_test shape:\", X_test.shape)\n",
    "print(\"y_pred_test shape:\", y_pred_test.shape)"
   ]
  },
  {
   "cell_type": "code",
   "execution_count": 15,
   "id": "84497b25",
   "metadata": {
    "execution": {
     "iopub.execute_input": "2025-07-08T12:08:48.951978Z",
     "iopub.status.busy": "2025-07-08T12:08:48.951638Z",
     "iopub.status.idle": "2025-07-08T12:08:48.987404Z",
     "shell.execute_reply": "2025-07-08T12:08:48.986628Z"
    },
    "papermill": {
     "duration": 0.044166,
     "end_time": "2025-07-08T12:08:48.989027",
     "exception": false,
     "start_time": "2025-07-08T12:08:48.944861",
     "status": "completed"
    },
    "tags": []
   },
   "outputs": [],
   "source": [
    "submission = pd.DataFrame({\"ImageId\": range(1, (X_test.shape[1])+1), \"Label\": y_pred_test})\n",
    "submission.to_csv(\"aak_mnist_from_scratch\", index=False)"
   ]
  }
 ],
 "metadata": {
  "kaggle": {
   "accelerator": "none",
   "dataSources": [
    {
     "databundleVersionId": 861823,
     "sourceId": 3004,
     "sourceType": "competition"
    }
   ],
   "dockerImageVersionId": 31040,
   "isGpuEnabled": false,
   "isInternetEnabled": true,
   "language": "python",
   "sourceType": "notebook"
  },
  "kernelspec": {
   "display_name": "Python 3",
   "language": "python",
   "name": "python3"
  },
  "language_info": {
   "codemirror_mode": {
    "name": "ipython",
    "version": 3
   },
   "file_extension": ".py",
   "mimetype": "text/x-python",
   "name": "python",
   "nbconvert_exporter": "python",
   "pygments_lexer": "ipython3",
   "version": "3.11.11"
  },
  "papermill": {
   "default_parameters": {},
   "duration": 1756.347609,
   "end_time": "2025-07-08T12:08:49.617159",
   "environment_variables": {},
   "exception": null,
   "input_path": "__notebook__.ipynb",
   "output_path": "__notebook__.ipynb",
   "parameters": {},
   "start_time": "2025-07-08T11:39:33.269550",
   "version": "2.6.0"
  }
 },
 "nbformat": 4,
 "nbformat_minor": 5
}
